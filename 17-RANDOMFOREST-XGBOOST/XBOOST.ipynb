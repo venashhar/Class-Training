{
 "cells": [
  {
   "cell_type": "code",
   "execution_count": 44,
   "metadata": {},
   "outputs": [],
   "source": [
    "import pandas as pd"
   ]
  },
  {
   "cell_type": "code",
   "execution_count": 45,
   "metadata": {},
   "outputs": [],
   "source": [
    "df = pd.read_csv('Cancer.csv')"
   ]
  },
  {
   "cell_type": "code",
   "execution_count": 46,
   "metadata": {},
   "outputs": [
    {
     "name": "stdout",
     "output_type": "stream",
     "text": [
      "<class 'pandas.core.frame.DataFrame'>\n",
      "RangeIndex: 1372 entries, 0 to 1371\n",
      "Data columns (total 10 columns):\n",
      " #   Column  Non-Null Count  Dtype  \n",
      "---  ------  --------------  -----  \n",
      " 0   I0      1372 non-null   float64\n",
      " 1   PA500   1372 non-null   float64\n",
      " 2   HFS     1372 non-null   float64\n",
      " 3   DA      1372 non-null   float64\n",
      " 4   Area    1372 non-null   float64\n",
      " 5   A/DA    106 non-null    float64\n",
      " 6   Max IP  106 non-null    float64\n",
      " 7   DR      106 non-null    float64\n",
      " 8   P       106 non-null    float64\n",
      " 9   Class   106 non-null    object \n",
      "dtypes: float64(9), object(1)\n",
      "memory usage: 107.3+ KB\n"
     ]
    }
   ],
   "source": [
    "df.info()"
   ]
  },
  {
   "cell_type": "code",
   "execution_count": 47,
   "metadata": {},
   "outputs": [],
   "source": [
    "df = df.dropna()"
   ]
  },
  {
   "cell_type": "code",
   "execution_count": 48,
   "metadata": {},
   "outputs": [
    {
     "data": {
      "text/html": [
       "<div>\n",
       "<style scoped>\n",
       "    .dataframe tbody tr th:only-of-type {\n",
       "        vertical-align: middle;\n",
       "    }\n",
       "\n",
       "    .dataframe tbody tr th {\n",
       "        vertical-align: top;\n",
       "    }\n",
       "\n",
       "    .dataframe thead th {\n",
       "        text-align: right;\n",
       "    }\n",
       "</style>\n",
       "<table border=\"1\" class=\"dataframe\">\n",
       "  <thead>\n",
       "    <tr style=\"text-align: right;\">\n",
       "      <th></th>\n",
       "      <th>I0</th>\n",
       "      <th>PA500</th>\n",
       "      <th>HFS</th>\n",
       "      <th>DA</th>\n",
       "      <th>Area</th>\n",
       "      <th>A/DA</th>\n",
       "      <th>Max IP</th>\n",
       "      <th>DR</th>\n",
       "      <th>P</th>\n",
       "      <th>Class</th>\n",
       "    </tr>\n",
       "  </thead>\n",
       "  <tbody>\n",
       "    <tr>\n",
       "      <th>0</th>\n",
       "      <td>524.794072</td>\n",
       "      <td>0.187448</td>\n",
       "      <td>0.032114</td>\n",
       "      <td>228.800228</td>\n",
       "      <td>6843.598481</td>\n",
       "      <td>29.910803</td>\n",
       "      <td>60.204880</td>\n",
       "      <td>220.737212</td>\n",
       "      <td>556.828334</td>\n",
       "      <td>car</td>\n",
       "    </tr>\n",
       "    <tr>\n",
       "      <th>1</th>\n",
       "      <td>330.000000</td>\n",
       "      <td>0.226893</td>\n",
       "      <td>0.265290</td>\n",
       "      <td>121.154201</td>\n",
       "      <td>3163.239472</td>\n",
       "      <td>26.109202</td>\n",
       "      <td>69.717361</td>\n",
       "      <td>99.084964</td>\n",
       "      <td>400.225776</td>\n",
       "      <td>car</td>\n",
       "    </tr>\n",
       "    <tr>\n",
       "      <th>2</th>\n",
       "      <td>551.879287</td>\n",
       "      <td>0.232478</td>\n",
       "      <td>0.063530</td>\n",
       "      <td>264.804935</td>\n",
       "      <td>11888.391830</td>\n",
       "      <td>44.894903</td>\n",
       "      <td>77.793297</td>\n",
       "      <td>253.785300</td>\n",
       "      <td>656.769449</td>\n",
       "      <td>car</td>\n",
       "    </tr>\n",
       "    <tr>\n",
       "      <th>3</th>\n",
       "      <td>380.000000</td>\n",
       "      <td>0.240855</td>\n",
       "      <td>0.286234</td>\n",
       "      <td>137.640111</td>\n",
       "      <td>5402.171180</td>\n",
       "      <td>39.248524</td>\n",
       "      <td>88.758446</td>\n",
       "      <td>105.198568</td>\n",
       "      <td>493.701813</td>\n",
       "      <td>car</td>\n",
       "    </tr>\n",
       "    <tr>\n",
       "      <th>4</th>\n",
       "      <td>362.831266</td>\n",
       "      <td>0.200713</td>\n",
       "      <td>0.244346</td>\n",
       "      <td>124.912559</td>\n",
       "      <td>3290.462446</td>\n",
       "      <td>26.342127</td>\n",
       "      <td>69.389389</td>\n",
       "      <td>103.866552</td>\n",
       "      <td>424.796503</td>\n",
       "      <td>car</td>\n",
       "    </tr>\n",
       "    <tr>\n",
       "      <th>...</th>\n",
       "      <td>...</td>\n",
       "      <td>...</td>\n",
       "      <td>...</td>\n",
       "      <td>...</td>\n",
       "      <td>...</td>\n",
       "      <td>...</td>\n",
       "      <td>...</td>\n",
       "      <td>...</td>\n",
       "      <td>...</td>\n",
       "      <td>...</td>\n",
       "    </tr>\n",
       "    <tr>\n",
       "      <th>101</th>\n",
       "      <td>2000.000000</td>\n",
       "      <td>0.106989</td>\n",
       "      <td>0.105418</td>\n",
       "      <td>520.222649</td>\n",
       "      <td>40087.920980</td>\n",
       "      <td>77.059161</td>\n",
       "      <td>204.090347</td>\n",
       "      <td>478.517223</td>\n",
       "      <td>2088.648870</td>\n",
       "      <td>adi</td>\n",
       "    </tr>\n",
       "    <tr>\n",
       "      <th>102</th>\n",
       "      <td>2600.000000</td>\n",
       "      <td>0.200538</td>\n",
       "      <td>0.208043</td>\n",
       "      <td>1063.441427</td>\n",
       "      <td>174480.476200</td>\n",
       "      <td>164.071543</td>\n",
       "      <td>418.687286</td>\n",
       "      <td>977.552367</td>\n",
       "      <td>2664.583623</td>\n",
       "      <td>adi</td>\n",
       "    </tr>\n",
       "    <tr>\n",
       "      <th>103</th>\n",
       "      <td>1600.000000</td>\n",
       "      <td>0.071908</td>\n",
       "      <td>-0.066323</td>\n",
       "      <td>436.943603</td>\n",
       "      <td>12655.342130</td>\n",
       "      <td>28.963331</td>\n",
       "      <td>103.732704</td>\n",
       "      <td>432.129749</td>\n",
       "      <td>1475.371534</td>\n",
       "      <td>adi</td>\n",
       "    </tr>\n",
       "    <tr>\n",
       "      <th>104</th>\n",
       "      <td>2300.000000</td>\n",
       "      <td>0.045029</td>\n",
       "      <td>0.136834</td>\n",
       "      <td>185.446044</td>\n",
       "      <td>5086.292497</td>\n",
       "      <td>27.427344</td>\n",
       "      <td>178.691742</td>\n",
       "      <td>49.593290</td>\n",
       "      <td>2480.592151</td>\n",
       "      <td>adi</td>\n",
       "    </tr>\n",
       "    <tr>\n",
       "      <th>105</th>\n",
       "      <td>2600.000000</td>\n",
       "      <td>0.069988</td>\n",
       "      <td>0.048869</td>\n",
       "      <td>745.474369</td>\n",
       "      <td>39845.773700</td>\n",
       "      <td>53.450226</td>\n",
       "      <td>154.122604</td>\n",
       "      <td>729.368395</td>\n",
       "      <td>2545.419744</td>\n",
       "      <td>adi</td>\n",
       "    </tr>\n",
       "  </tbody>\n",
       "</table>\n",
       "<p>106 rows × 10 columns</p>\n",
       "</div>"
      ],
      "text/plain": [
       "              I0     PA500       HFS           DA           Area        A/DA  \\\n",
       "0     524.794072  0.187448  0.032114   228.800228    6843.598481   29.910803   \n",
       "1     330.000000  0.226893  0.265290   121.154201    3163.239472   26.109202   \n",
       "2     551.879287  0.232478  0.063530   264.804935   11888.391830   44.894903   \n",
       "3     380.000000  0.240855  0.286234   137.640111    5402.171180   39.248524   \n",
       "4     362.831266  0.200713  0.244346   124.912559    3290.462446   26.342127   \n",
       "..           ...       ...       ...          ...            ...         ...   \n",
       "101  2000.000000  0.106989  0.105418   520.222649   40087.920980   77.059161   \n",
       "102  2600.000000  0.200538  0.208043  1063.441427  174480.476200  164.071543   \n",
       "103  1600.000000  0.071908 -0.066323   436.943603   12655.342130   28.963331   \n",
       "104  2300.000000  0.045029  0.136834   185.446044    5086.292497   27.427344   \n",
       "105  2600.000000  0.069988  0.048869   745.474369   39845.773700   53.450226   \n",
       "\n",
       "         Max IP          DR            P Class  \n",
       "0     60.204880  220.737212   556.828334   car  \n",
       "1     69.717361   99.084964   400.225776   car  \n",
       "2     77.793297  253.785300   656.769449   car  \n",
       "3     88.758446  105.198568   493.701813   car  \n",
       "4     69.389389  103.866552   424.796503   car  \n",
       "..          ...         ...          ...   ...  \n",
       "101  204.090347  478.517223  2088.648870   adi  \n",
       "102  418.687286  977.552367  2664.583623   adi  \n",
       "103  103.732704  432.129749  1475.371534   adi  \n",
       "104  178.691742   49.593290  2480.592151   adi  \n",
       "105  154.122604  729.368395  2545.419744   adi  \n",
       "\n",
       "[106 rows x 10 columns]"
      ]
     },
     "execution_count": 48,
     "metadata": {},
     "output_type": "execute_result"
    }
   ],
   "source": [
    "df"
   ]
  },
  {
   "cell_type": "code",
   "execution_count": 49,
   "metadata": {},
   "outputs": [
    {
     "name": "stdout",
     "output_type": "stream",
     "text": [
      "(106, 10)\n",
      "6\n"
     ]
    },
    {
     "data": {
      "text/html": [
       "<div>\n",
       "<style scoped>\n",
       "    .dataframe tbody tr th:only-of-type {\n",
       "        vertical-align: middle;\n",
       "    }\n",
       "\n",
       "    .dataframe tbody tr th {\n",
       "        vertical-align: top;\n",
       "    }\n",
       "\n",
       "    .dataframe thead th {\n",
       "        text-align: right;\n",
       "    }\n",
       "</style>\n",
       "<table border=\"1\" class=\"dataframe\">\n",
       "  <thead>\n",
       "    <tr style=\"text-align: right;\">\n",
       "      <th></th>\n",
       "      <th>I0</th>\n",
       "      <th>PA500</th>\n",
       "      <th>HFS</th>\n",
       "      <th>DA</th>\n",
       "      <th>Area</th>\n",
       "      <th>A/DA</th>\n",
       "      <th>Max IP</th>\n",
       "      <th>DR</th>\n",
       "      <th>P</th>\n",
       "    </tr>\n",
       "  </thead>\n",
       "  <tbody>\n",
       "    <tr>\n",
       "      <th>count</th>\n",
       "      <td>106.000000</td>\n",
       "      <td>106.000000</td>\n",
       "      <td>106.000000</td>\n",
       "      <td>106.000000</td>\n",
       "      <td>106.000000</td>\n",
       "      <td>106.000000</td>\n",
       "      <td>106.000000</td>\n",
       "      <td>106.000000</td>\n",
       "      <td>106.000000</td>\n",
       "    </tr>\n",
       "    <tr>\n",
       "      <th>mean</th>\n",
       "      <td>784.251618</td>\n",
       "      <td>0.120133</td>\n",
       "      <td>0.114691</td>\n",
       "      <td>190.568642</td>\n",
       "      <td>7335.155161</td>\n",
       "      <td>23.473784</td>\n",
       "      <td>75.381258</td>\n",
       "      <td>166.710575</td>\n",
       "      <td>810.638127</td>\n",
       "    </tr>\n",
       "    <tr>\n",
       "      <th>std</th>\n",
       "      <td>753.950075</td>\n",
       "      <td>0.068596</td>\n",
       "      <td>0.101347</td>\n",
       "      <td>190.801448</td>\n",
       "      <td>18580.314212</td>\n",
       "      <td>23.354672</td>\n",
       "      <td>81.345838</td>\n",
       "      <td>181.309580</td>\n",
       "      <td>763.019135</td>\n",
       "    </tr>\n",
       "    <tr>\n",
       "      <th>min</th>\n",
       "      <td>103.000000</td>\n",
       "      <td>0.012392</td>\n",
       "      <td>-0.066323</td>\n",
       "      <td>19.647670</td>\n",
       "      <td>70.426239</td>\n",
       "      <td>1.595742</td>\n",
       "      <td>7.968783</td>\n",
       "      <td>-9.257696</td>\n",
       "      <td>124.978561</td>\n",
       "    </tr>\n",
       "    <tr>\n",
       "      <th>25%</th>\n",
       "      <td>250.000000</td>\n",
       "      <td>0.067413</td>\n",
       "      <td>0.043982</td>\n",
       "      <td>53.845470</td>\n",
       "      <td>409.647141</td>\n",
       "      <td>8.180321</td>\n",
       "      <td>26.893773</td>\n",
       "      <td>41.781258</td>\n",
       "      <td>270.215238</td>\n",
       "    </tr>\n",
       "    <tr>\n",
       "      <th>50%</th>\n",
       "      <td>384.936489</td>\n",
       "      <td>0.105418</td>\n",
       "      <td>0.086568</td>\n",
       "      <td>120.777303</td>\n",
       "      <td>2219.581163</td>\n",
       "      <td>16.133657</td>\n",
       "      <td>44.216040</td>\n",
       "      <td>97.832557</td>\n",
       "      <td>454.108153</td>\n",
       "    </tr>\n",
       "    <tr>\n",
       "      <th>75%</th>\n",
       "      <td>1487.989626</td>\n",
       "      <td>0.169602</td>\n",
       "      <td>0.166504</td>\n",
       "      <td>255.334809</td>\n",
       "      <td>7615.204968</td>\n",
       "      <td>30.953294</td>\n",
       "      <td>83.671755</td>\n",
       "      <td>232.990070</td>\n",
       "      <td>1301.559438</td>\n",
       "    </tr>\n",
       "    <tr>\n",
       "      <th>max</th>\n",
       "      <td>2800.000000</td>\n",
       "      <td>0.358316</td>\n",
       "      <td>0.467748</td>\n",
       "      <td>1063.441427</td>\n",
       "      <td>174480.476200</td>\n",
       "      <td>164.071543</td>\n",
       "      <td>436.099640</td>\n",
       "      <td>977.552367</td>\n",
       "      <td>2896.582483</td>\n",
       "    </tr>\n",
       "  </tbody>\n",
       "</table>\n",
       "</div>"
      ],
      "text/plain": [
       "                I0       PA500         HFS           DA           Area  \\\n",
       "count   106.000000  106.000000  106.000000   106.000000     106.000000   \n",
       "mean    784.251618    0.120133    0.114691   190.568642    7335.155161   \n",
       "std     753.950075    0.068596    0.101347   190.801448   18580.314212   \n",
       "min     103.000000    0.012392   -0.066323    19.647670      70.426239   \n",
       "25%     250.000000    0.067413    0.043982    53.845470     409.647141   \n",
       "50%     384.936489    0.105418    0.086568   120.777303    2219.581163   \n",
       "75%    1487.989626    0.169602    0.166504   255.334809    7615.204968   \n",
       "max    2800.000000    0.358316    0.467748  1063.441427  174480.476200   \n",
       "\n",
       "             A/DA      Max IP          DR            P  \n",
       "count  106.000000  106.000000  106.000000   106.000000  \n",
       "mean    23.473784   75.381258  166.710575   810.638127  \n",
       "std     23.354672   81.345838  181.309580   763.019135  \n",
       "min      1.595742    7.968783   -9.257696   124.978561  \n",
       "25%      8.180321   26.893773   41.781258   270.215238  \n",
       "50%     16.133657   44.216040   97.832557   454.108153  \n",
       "75%     30.953294   83.671755  232.990070  1301.559438  \n",
       "max    164.071543  436.099640  977.552367  2896.582483  "
      ]
     },
     "execution_count": 49,
     "metadata": {},
     "output_type": "execute_result"
    }
   ],
   "source": [
    "print(df.shape)\n",
    "\n",
    "num_of_classes = len(df.Class.unique())\n",
    "print(num_of_classes)\n",
    "\n",
    "df.describe()"
   ]
  },
  {
   "cell_type": "code",
   "execution_count": 50,
   "metadata": {},
   "outputs": [
    {
     "data": {
      "text/plain": [
       "(106, 10)"
      ]
     },
     "execution_count": 50,
     "metadata": {},
     "output_type": "execute_result"
    }
   ],
   "source": [
    "df.shape"
   ]
  },
  {
   "cell_type": "code",
   "execution_count": 51,
   "metadata": {},
   "outputs": [
    {
     "name": "stdout",
     "output_type": "stream",
     "text": [
      "(106, 9)\n",
      "(106,)\n"
     ]
    }
   ],
   "source": [
    "# split train input and output data\n",
    "X = df.drop(axis=0, columns=['Class'])\n",
    "Y = df.Class\n",
    "\n",
    "#Print the shape of X and Y\n",
    "print(X.shape)\n",
    "print(Y.shape)"
   ]
  },
  {
   "cell_type": "code",
   "execution_count": 52,
   "metadata": {},
   "outputs": [
    {
     "name": "stdout",
     "output_type": "stream",
     "text": [
      "<class 'pandas.core.frame.DataFrame'>\n",
      "Int64Index: 106 entries, 0 to 105\n",
      "Data columns (total 9 columns):\n",
      " #   Column  Non-Null Count  Dtype  \n",
      "---  ------  --------------  -----  \n",
      " 0   I0      106 non-null    float64\n",
      " 1   PA500   106 non-null    float64\n",
      " 2   HFS     106 non-null    float64\n",
      " 3   DA      106 non-null    float64\n",
      " 4   Area    106 non-null    float64\n",
      " 5   A/DA    106 non-null    float64\n",
      " 6   Max IP  106 non-null    float64\n",
      " 7   DR      106 non-null    float64\n",
      " 8   P       106 non-null    float64\n",
      "dtypes: float64(9)\n",
      "memory usage: 8.3 KB\n"
     ]
    }
   ],
   "source": [
    "X.info()"
   ]
  },
  {
   "cell_type": "code",
   "execution_count": 56,
   "metadata": {},
   "outputs": [
    {
     "data": {
      "text/plain": [
       "array(['car', 'fad', 'mas', 'gla', 'con', 'adi'], dtype=object)"
      ]
     },
     "execution_count": 56,
     "metadata": {},
     "output_type": "execute_result"
    }
   ],
   "source": [
    "Y.unique()"
   ]
  },
  {
   "cell_type": "code",
   "execution_count": 59,
   "metadata": {},
   "outputs": [],
   "source": [
    "from sklearn.model_selection import train_test_split\n",
    "\n",
    "# Split into training and test sets\n",
    "X_train, X_test, y_train, y_test = train_test_split(X, Y, test_size=0.10, random_state=42)"
   ]
  },
  {
   "cell_type": "code",
   "execution_count": 60,
   "metadata": {
    "collapsed": true
   },
   "outputs": [
    {
     "data": {
      "text/html": [
       "<div>\n",
       "<style scoped>\n",
       "    .dataframe tbody tr th:only-of-type {\n",
       "        vertical-align: middle;\n",
       "    }\n",
       "\n",
       "    .dataframe tbody tr th {\n",
       "        vertical-align: top;\n",
       "    }\n",
       "\n",
       "    .dataframe thead th {\n",
       "        text-align: right;\n",
       "    }\n",
       "</style>\n",
       "<table border=\"1\" class=\"dataframe\">\n",
       "  <thead>\n",
       "    <tr style=\"text-align: right;\">\n",
       "      <th></th>\n",
       "      <th>I0</th>\n",
       "      <th>PA500</th>\n",
       "      <th>HFS</th>\n",
       "      <th>DA</th>\n",
       "      <th>Area</th>\n",
       "      <th>A/DA</th>\n",
       "      <th>Max IP</th>\n",
       "      <th>DR</th>\n",
       "      <th>P</th>\n",
       "    </tr>\n",
       "  </thead>\n",
       "  <tbody>\n",
       "    <tr>\n",
       "      <th>42</th>\n",
       "      <td>481.467149</td>\n",
       "      <td>0.078540</td>\n",
       "      <td>0.016057</td>\n",
       "      <td>79.059162</td>\n",
       "      <td>1154.338239</td>\n",
       "      <td>14.600942</td>\n",
       "      <td>33.929131</td>\n",
       "      <td>71.408439</td>\n",
       "      <td>501.893358</td>\n",
       "    </tr>\n",
       "    <tr>\n",
       "      <th>0</th>\n",
       "      <td>524.794072</td>\n",
       "      <td>0.187448</td>\n",
       "      <td>0.032114</td>\n",
       "      <td>228.800228</td>\n",
       "      <td>6843.598481</td>\n",
       "      <td>29.910803</td>\n",
       "      <td>60.204880</td>\n",
       "      <td>220.737212</td>\n",
       "      <td>556.828334</td>\n",
       "    </tr>\n",
       "    <tr>\n",
       "      <th>78</th>\n",
       "      <td>1461.750342</td>\n",
       "      <td>0.040841</td>\n",
       "      <td>0.049567</td>\n",
       "      <td>391.846023</td>\n",
       "      <td>5574.002820</td>\n",
       "      <td>14.224982</td>\n",
       "      <td>57.231480</td>\n",
       "      <td>387.643991</td>\n",
       "      <td>1428.839976</td>\n",
       "    </tr>\n",
       "    <tr>\n",
       "      <th>18</th>\n",
       "      <td>325.000000</td>\n",
       "      <td>0.224624</td>\n",
       "      <td>0.286932</td>\n",
       "      <td>229.215863</td>\n",
       "      <td>5705.332090</td>\n",
       "      <td>24.890651</td>\n",
       "      <td>35.602715</td>\n",
       "      <td>227.264794</td>\n",
       "      <td>462.703007</td>\n",
       "    </tr>\n",
       "    <tr>\n",
       "      <th>64</th>\n",
       "      <td>391.000000</td>\n",
       "      <td>0.058119</td>\n",
       "      <td>0.011170</td>\n",
       "      <td>35.780061</td>\n",
       "      <td>265.149790</td>\n",
       "      <td>7.410546</td>\n",
       "      <td>22.131472</td>\n",
       "      <td>28.114244</td>\n",
       "      <td>400.994818</td>\n",
       "    </tr>\n",
       "    <tr>\n",
       "      <th>...</th>\n",
       "      <td>...</td>\n",
       "      <td>...</td>\n",
       "      <td>...</td>\n",
       "      <td>...</td>\n",
       "      <td>...</td>\n",
       "      <td>...</td>\n",
       "      <td>...</td>\n",
       "      <td>...</td>\n",
       "      <td>...</td>\n",
       "    </tr>\n",
       "    <tr>\n",
       "      <th>71</th>\n",
       "      <td>1385.664721</td>\n",
       "      <td>0.092328</td>\n",
       "      <td>0.089361</td>\n",
       "      <td>202.480044</td>\n",
       "      <td>8785.028733</td>\n",
       "      <td>43.387134</td>\n",
       "      <td>143.092194</td>\n",
       "      <td>143.257780</td>\n",
       "      <td>1524.609204</td>\n",
       "    </tr>\n",
       "    <tr>\n",
       "      <th>14</th>\n",
       "      <td>485.668805</td>\n",
       "      <td>0.230209</td>\n",
       "      <td>0.134041</td>\n",
       "      <td>253.893699</td>\n",
       "      <td>8135.968359</td>\n",
       "      <td>32.044783</td>\n",
       "      <td>64.855446</td>\n",
       "      <td>245.470531</td>\n",
       "      <td>541.363975</td>\n",
       "    </tr>\n",
       "    <tr>\n",
       "      <th>92</th>\n",
       "      <td>1800.000000</td>\n",
       "      <td>0.091979</td>\n",
       "      <td>0.205251</td>\n",
       "      <td>362.863321</td>\n",
       "      <td>15021.553890</td>\n",
       "      <td>41.397278</td>\n",
       "      <td>217.833969</td>\n",
       "      <td>290.203640</td>\n",
       "      <td>1893.663712</td>\n",
       "    </tr>\n",
       "    <tr>\n",
       "      <th>51</th>\n",
       "      <td>274.993396</td>\n",
       "      <td>0.147131</td>\n",
       "      <td>0.137532</td>\n",
       "      <td>66.457943</td>\n",
       "      <td>1217.415651</td>\n",
       "      <td>18.318588</td>\n",
       "      <td>40.849678</td>\n",
       "      <td>52.421008</td>\n",
       "      <td>327.558639</td>\n",
       "    </tr>\n",
       "    <tr>\n",
       "      <th>102</th>\n",
       "      <td>2600.000000</td>\n",
       "      <td>0.200538</td>\n",
       "      <td>0.208043</td>\n",
       "      <td>1063.441427</td>\n",
       "      <td>174480.476200</td>\n",
       "      <td>164.071543</td>\n",
       "      <td>418.687286</td>\n",
       "      <td>977.552367</td>\n",
       "      <td>2664.583623</td>\n",
       "    </tr>\n",
       "  </tbody>\n",
       "</table>\n",
       "<p>95 rows × 9 columns</p>\n",
       "</div>"
      ],
      "text/plain": [
       "              I0     PA500       HFS           DA           Area        A/DA  \\\n",
       "42    481.467149  0.078540  0.016057    79.059162    1154.338239   14.600942   \n",
       "0     524.794072  0.187448  0.032114   228.800228    6843.598481   29.910803   \n",
       "78   1461.750342  0.040841  0.049567   391.846023    5574.002820   14.224982   \n",
       "18    325.000000  0.224624  0.286932   229.215863    5705.332090   24.890651   \n",
       "64    391.000000  0.058119  0.011170    35.780061     265.149790    7.410546   \n",
       "..           ...       ...       ...          ...            ...         ...   \n",
       "71   1385.664721  0.092328  0.089361   202.480044    8785.028733   43.387134   \n",
       "14    485.668805  0.230209  0.134041   253.893699    8135.968359   32.044783   \n",
       "92   1800.000000  0.091979  0.205251   362.863321   15021.553890   41.397278   \n",
       "51    274.993396  0.147131  0.137532    66.457943    1217.415651   18.318588   \n",
       "102  2600.000000  0.200538  0.208043  1063.441427  174480.476200  164.071543   \n",
       "\n",
       "         Max IP          DR            P  \n",
       "42    33.929131   71.408439   501.893358  \n",
       "0     60.204880  220.737212   556.828334  \n",
       "78    57.231480  387.643991  1428.839976  \n",
       "18    35.602715  227.264794   462.703007  \n",
       "64    22.131472   28.114244   400.994818  \n",
       "..          ...         ...          ...  \n",
       "71   143.092194  143.257780  1524.609204  \n",
       "14    64.855446  245.470531   541.363975  \n",
       "92   217.833969  290.203640  1893.663712  \n",
       "51    40.849678   52.421008   327.558639  \n",
       "102  418.687286  977.552367  2664.583623  \n",
       "\n",
       "[95 rows x 9 columns]"
      ]
     },
     "execution_count": 60,
     "metadata": {},
     "output_type": "execute_result"
    }
   ],
   "source": [
    "X_train"
   ]
  },
  {
   "cell_type": "code",
   "execution_count": 63,
   "metadata": {
    "collapsed": true
   },
   "outputs": [
    {
     "data": {
      "text/plain": [
       "42     mas\n",
       "0      car\n",
       "78     con\n",
       "18     car\n",
       "64     gla\n",
       "      ... \n",
       "71     con\n",
       "14     car\n",
       "92     adi\n",
       "51     mas\n",
       "102    adi\n",
       "Name: Class, Length: 95, dtype: object"
      ]
     },
     "execution_count": 63,
     "metadata": {},
     "output_type": "execute_result"
    }
   ],
   "source": [
    "y_train"
   ]
  },
  {
   "cell_type": "code",
   "execution_count": 73,
   "metadata": {},
   "outputs": [],
   "source": [
    "from xgboost import XGBClassifier\n",
    "\n",
    "# Create a classifier\n",
    "#xgb = XGBClassifier(booster='gbtree', objective='multi:softprob', random_state=42, eval_metric=\"auc\", num_class=num_of_classes)\n",
    "xgb = XGBClassifier(random_state=42)\n",
    "# Fit the classifier with the training data\n",
    "xgb.fit(X_train,y_train)\n",
    "val = xgb.predict(X_test)"
   ]
  },
  {
   "cell_type": "code",
   "execution_count": null,
   "metadata": {},
   "outputs": [],
   "source": [
    "xgb = XGBClassifier(base_score=0.5, booster='gbtree', colsample_bylevel=1,\n",
    "              colsample_bynode=1, colsample_bytree=1, gamma=0, gpu_id=-1,\n",
    "              importance_type='gain', interaction_constraints='',\n",
    "              learning_rate=0.300000012, max_delta_step=0, max_depth=6,\n",
    "              min_child_weight=1, missing=nan, monotone_constraints='()',\n",
    "              n_estimators=100, n_jobs=0, num_parallel_tree=1,\n",
    "              objective='multi:softprob', random_state=42, reg_alpha=0,\n",
    "              reg_lambda=1, scale_pos_weight=None, subsample=1,\n",
    "              tree_method='exact', validate_parameters=1, verbosity=None)"
   ]
  },
  {
   "cell_type": "code",
   "execution_count": 72,
   "metadata": {},
   "outputs": [
    {
     "data": {
      "text/plain": [
       "XGBClassifier(base_score=0.5, booster='gbtree', colsample_bylevel=1,\n",
       "              colsample_bynode=1, colsample_bytree=1, gamma=0, gpu_id=-1,\n",
       "              importance_type='gain', interaction_constraints='',\n",
       "              learning_rate=0.300000012, max_delta_step=0, max_depth=6,\n",
       "              min_child_weight=1, missing=nan, monotone_constraints='()',\n",
       "              n_estimators=100, n_jobs=0, num_parallel_tree=1,\n",
       "              objective='multi:softprob', random_state=42, reg_alpha=0,\n",
       "              reg_lambda=1, scale_pos_weight=None, subsample=1,\n",
       "              tree_method='exact', validate_parameters=1, verbosity=None)"
      ]
     },
     "execution_count": 72,
     "metadata": {},
     "output_type": "execute_result"
    }
   ],
   "source": [
    "xgb"
   ]
  },
  {
   "cell_type": "code",
   "execution_count": 68,
   "metadata": {},
   "outputs": [
    {
     "data": {
      "text/plain": [
       "100    adi\n",
       "10     car\n",
       "4      car\n",
       "81     con\n",
       "97     adi\n",
       "65     gla\n",
       "30     fad\n",
       "33     fad\n",
       "93     adi\n",
       "11     car\n",
       "47     mas\n",
       "Name: Class, dtype: object"
      ]
     },
     "execution_count": 68,
     "metadata": {},
     "output_type": "execute_result"
    }
   ],
   "source": [
    "y_test"
   ]
  },
  {
   "cell_type": "code",
   "execution_count": null,
   "metadata": {},
   "outputs": [],
   "source": [
    "The multi:softprob objective parameter essentially gives us a fuzzy clustering in \n",
    "    which each observation is given a distinct probability of belonging to each class. \n",
    "    In order to use these probabilities for classification, \n",
    "    we will have to determine the max probability for each observation and assign a class"
   ]
  },
  {
   "cell_type": "code",
   "execution_count": null,
   "metadata": {},
   "outputs": [],
   "source": []
  },
  {
   "cell_type": "code",
   "execution_count": null,
   "metadata": {},
   "outputs": [],
   "source": [
    "“auc” to measure the model performance"
   ]
  },
  {
   "cell_type": "code",
   "execution_count": 78,
   "metadata": {},
   "outputs": [
    {
     "data": {
      "text/plain": [
       "0.8083333333333332"
      ]
     },
     "execution_count": 78,
     "metadata": {},
     "output_type": "execute_result"
    }
   ],
   "source": [
    "from sklearn.metrics import roc_auc_score\n",
    "from sklearn import preprocessing\n",
    "\n",
    "# Use trained model to predict output of test dataset\n",
    "val = xgb.predict(X_test)\n",
    "\n",
    "lb = preprocessing.LabelBinarizer()\n",
    "lb.fit(y_test)\n",
    "\n",
    "y_test_lb = lb.transform(y_test)\n",
    "val_lb = lb.transform(val)\n",
    "\n",
    "roc_auc_score(y_test_lb, val_lb, average='macro')\n"
   ]
  },
  {
   "cell_type": "code",
   "execution_count": 79,
   "metadata": {},
   "outputs": [
    {
     "data": {
      "text/plain": [
       "array([[1, 0, 0, 0, 0, 0],\n",
       "       [0, 1, 0, 0, 0, 0],\n",
       "       [0, 1, 0, 0, 0, 0],\n",
       "       [0, 0, 1, 0, 0, 0],\n",
       "       [1, 0, 0, 0, 0, 0],\n",
       "       [0, 0, 0, 0, 1, 0],\n",
       "       [0, 0, 0, 1, 0, 0],\n",
       "       [0, 0, 0, 1, 0, 0],\n",
       "       [1, 0, 0, 0, 0, 0],\n",
       "       [0, 1, 0, 0, 0, 0],\n",
       "       [0, 0, 0, 0, 0, 1]])"
      ]
     },
     "execution_count": 79,
     "metadata": {},
     "output_type": "execute_result"
    }
   ],
   "source": [
    "y_test_lb\n",
    "#'car', 'fad', 'mas', 'gla', 'con', 'adi'"
   ]
  },
  {
   "cell_type": "code",
   "execution_count": 80,
   "metadata": {},
   "outputs": [
    {
     "data": {
      "text/plain": [
       "array([[1, 0, 0, 0, 0, 0],\n",
       "       [0, 1, 0, 0, 0, 0],\n",
       "       [0, 1, 0, 0, 0, 0],\n",
       "       [0, 0, 1, 0, 0, 0],\n",
       "       [1, 0, 0, 0, 0, 0],\n",
       "       [0, 0, 0, 0, 0, 1],\n",
       "       [0, 0, 0, 0, 0, 1],\n",
       "       [0, 0, 0, 0, 0, 1],\n",
       "       [1, 0, 0, 0, 0, 0],\n",
       "       [0, 1, 0, 0, 0, 0],\n",
       "       [0, 0, 0, 0, 0, 1]])"
      ]
     },
     "execution_count": 80,
     "metadata": {},
     "output_type": "execute_result"
    }
   ],
   "source": [
    "val_lb"
   ]
  },
  {
   "cell_type": "code",
   "execution_count": 75,
   "metadata": {},
   "outputs": [
    {
     "data": {
      "text/plain": [
       "LabelBinarizer(neg_label=0, pos_label=1, sparse_output=False)"
      ]
     },
     "execution_count": 75,
     "metadata": {},
     "output_type": "execute_result"
    }
   ],
   "source": [
    "lb"
   ]
  },
  {
   "cell_type": "code",
   "execution_count": 70,
   "metadata": {},
   "outputs": [
    {
     "data": {
      "text/html": [
       "<div>\n",
       "<style scoped>\n",
       "    .dataframe tbody tr th:only-of-type {\n",
       "        vertical-align: middle;\n",
       "    }\n",
       "\n",
       "    .dataframe tbody tr th {\n",
       "        vertical-align: top;\n",
       "    }\n",
       "\n",
       "    .dataframe thead th {\n",
       "        text-align: right;\n",
       "    }\n",
       "</style>\n",
       "<table border=\"1\" class=\"dataframe\">\n",
       "  <thead>\n",
       "    <tr style=\"text-align: right;\">\n",
       "      <th></th>\n",
       "      <th>Y TEST</th>\n",
       "      <th>Predicted Output</th>\n",
       "    </tr>\n",
       "  </thead>\n",
       "  <tbody>\n",
       "    <tr>\n",
       "      <th>100</th>\n",
       "      <td>adi</td>\n",
       "      <td>adi</td>\n",
       "    </tr>\n",
       "    <tr>\n",
       "      <th>10</th>\n",
       "      <td>car</td>\n",
       "      <td>car</td>\n",
       "    </tr>\n",
       "    <tr>\n",
       "      <th>4</th>\n",
       "      <td>car</td>\n",
       "      <td>car</td>\n",
       "    </tr>\n",
       "    <tr>\n",
       "      <th>81</th>\n",
       "      <td>con</td>\n",
       "      <td>con</td>\n",
       "    </tr>\n",
       "    <tr>\n",
       "      <th>97</th>\n",
       "      <td>adi</td>\n",
       "      <td>adi</td>\n",
       "    </tr>\n",
       "  </tbody>\n",
       "</table>\n",
       "</div>"
      ],
      "text/plain": [
       "    Y TEST Predicted Output\n",
       "100    adi              adi\n",
       "10     car              car\n",
       "4      car              car\n",
       "81     con              con\n",
       "97     adi              adi"
      ]
     },
     "execution_count": 70,
     "metadata": {},
     "output_type": "execute_result"
    }
   ],
   "source": [
    "output = pd.DataFrame()\n",
    "output['Y TEST'] = y_test\n",
    "output['Predicted Output'] = y_pred\n",
    "output.head()"
   ]
  },
  {
   "cell_type": "code",
   "execution_count": 33,
   "metadata": {},
   "outputs": [
    {
     "data": {
      "text/plain": [
       "0.7967432950191572"
      ]
     },
     "execution_count": 33,
     "metadata": {},
     "output_type": "execute_result"
    }
   ],
   "source": [
    "from sklearn.metrics import roc_auc_score\n",
    "from sklearn import preprocessing\n",
    "\n",
    "# Use trained model to predict output of test dataset\n",
    "val = xgb.predict(X_test)\n",
    "\n",
    "lb = preprocessing.LabelBinarizer()\n",
    "lb.fit(y_test)\n",
    "\n",
    "y_test_lb = lb.transform(y_test)\n",
    "val_lb = lb.transform(val)\n",
    "\n",
    "roc_auc_score(y_test_lb, val_lb, average='macro')"
   ]
  },
  {
   "cell_type": "code",
   "execution_count": null,
   "metadata": {},
   "outputs": [],
   "source": []
  }
 ],
 "metadata": {
  "kernelspec": {
   "display_name": "Python 3",
   "language": "python",
   "name": "python3"
  },
  "language_info": {
   "codemirror_mode": {
    "name": "ipython",
    "version": 3
   },
   "file_extension": ".py",
   "mimetype": "text/x-python",
   "name": "python",
   "nbconvert_exporter": "python",
   "pygments_lexer": "ipython3",
   "version": "3.7.6"
  }
 },
 "nbformat": 4,
 "nbformat_minor": 4
}
