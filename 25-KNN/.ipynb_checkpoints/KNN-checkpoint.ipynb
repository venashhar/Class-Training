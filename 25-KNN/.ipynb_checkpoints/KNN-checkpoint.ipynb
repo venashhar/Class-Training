{
 "cells": [
  {
   "cell_type": "markdown",
   "metadata": {},
   "source": [
    "# KNN ALGORITHM"
   ]
  },
  {
   "cell_type": "raw",
   "metadata": {},
   "source": [
    "The value of a data point is determined by the data points around it"
   ]
  },
  {
   "cell_type": "raw",
   "metadata": {},
   "source": [
    "If you have one very close friend and spend most of your time with him/her, \n",
    "you will end up sharing similar interests and enjoying same things. That is kNN with k=1"
   ]
  },
  {
   "cell_type": "raw",
   "metadata": {},
   "source": [
    "If you always hang out with a group of 5, each one in the group has an effect on your behavior\n",
    "and you will end up being the average of 5. That is kNN with k=5."
   ]
  },
  {
   "cell_type": "raw",
   "metadata": {},
   "source": [
    "kNN classifier determines the class of a data point by majority voting principle. If k is set to 5, the classes of 5 \n",
    "closest points are checked. Prediction is done according to the majority class"
   ]
  },
  {
   "cell_type": "code",
   "execution_count": 1,
   "metadata": {},
   "outputs": [],
   "source": [
    "import numpy as np\n",
    "import pandas as pd\n",
    "\n",
    "import matplotlib.pyplot as plt #data visualization\n",
    "\n",
    "from sklearn.datasets import make_blobs #synthetic dataset\n",
    "from sklearn.neighbors import KNeighborsClassifier #kNN classifier\n",
    "from sklearn.model_selection import train_test_split #train and test sets"
   ]
  },
  {
   "cell_type": "code",
   "execution_count": 2,
   "metadata": {},
   "outputs": [
    {
     "data": {
      "text/plain": [
       "<function sklearn.datasets._samples_generator.make_blobs(n_samples=100, n_features=2, centers=None, cluster_std=1.0, center_box=(-10.0, 10.0), shuffle=True, random_state=None)>"
      ]
     },
     "execution_count": 2,
     "metadata": {},
     "output_type": "execute_result"
    }
   ],
   "source": [
    "make_blobs"
   ]
  },
  {
   "cell_type": "raw",
   "metadata": {},
   "source": [
    "Scikit-learn provides many useful functions to create synthetic datasets which are \n",
    "very helpful for practicing machine learning algorithms.\n",
    "I will use make_blobs function."
   ]
  },
  {
   "cell_type": "code",
   "execution_count": 27,
   "metadata": {},
   "outputs": [],
   "source": [
    "#create synthetic dataset\n",
    "X, y = make_blobs(n_samples = 100, n_features = 2, centers = 4,\n",
    "                       cluster_std = 1.5, random_state = 4)"
   ]
  },
  {
   "cell_type": "code",
   "execution_count": 28,
   "metadata": {},
   "outputs": [
    {
     "data": {
      "text/plain": [
       "array([[  2.93285385,  -8.62723217],\n",
       "       [  8.92629175,   2.13941283],\n",
       "       [  8.0371343 ,   4.71761689],\n",
       "       [  4.40892954,  -4.40262978],\n",
       "       [  7.68222071,   2.20139951],\n",
       "       [ 11.87913335,  -0.72457325],\n",
       "       [  9.34637193, -11.44263045],\n",
       "       [  7.62489892,   1.70952466],\n",
       "       [ 10.26860131,   0.81266459],\n",
       "       [ 12.67563711,   1.53608781],\n",
       "       [  4.07647215,  -6.03899635],\n",
       "       [  2.1434758 ,  -7.43064551],\n",
       "       [  4.56666374,  -3.07961233],\n",
       "       [  7.8661093 ,   1.02629409],\n",
       "       [ 10.21835548,   4.74698819],\n",
       "       [ 11.52356734,   4.21448182],\n",
       "       [ 11.36141513,   3.32485307],\n",
       "       [  8.28557731,   4.56543595],\n",
       "       [  9.83897183,  -0.77656997],\n",
       "       [  7.60537239,   1.47114071],\n",
       "       [  6.32288786,  -5.9889826 ],\n",
       "       [ 11.95135091,  -9.77343661],\n",
       "       [ 10.42560919,   1.01384833],\n",
       "       [  4.12695976,  -5.35965466],\n",
       "       [  8.43026586,   3.26511398],\n",
       "       [  5.88402429,   3.38479434],\n",
       "       [  5.51593604,  -6.29118556],\n",
       "       [ 11.79421809,  -1.0968034 ],\n",
       "       [  9.89939901,   2.85365467],\n",
       "       [  7.28171055, -10.91849026],\n",
       "       [  5.64713649,  -5.40696012],\n",
       "       [  9.10061966,  -9.80118008],\n",
       "       [  1.8302352 ,  -4.35836159],\n",
       "       [  7.00284548,  -5.03944002],\n",
       "       [ 11.82317539, -10.7657976 ],\n",
       "       [  9.41260615,  -2.59246547],\n",
       "       [ 10.75994987,   4.03350408],\n",
       "       [  2.67514957,  -7.33507201],\n",
       "       [  9.6913915 ,   7.2814444 ],\n",
       "       [  9.76765743,   3.7346525 ],\n",
       "       [  3.51793279,  -7.01467369],\n",
       "       [  7.31940634,   0.93060483],\n",
       "       [ 10.06644607, -12.14775134],\n",
       "       [ 10.56105787,   5.27244972],\n",
       "       [ 11.04283171, -10.18829612],\n",
       "       [  7.27038571,   5.13059771],\n",
       "       [  1.43012916,  -6.32903966],\n",
       "       [  7.80800437,   3.50402577],\n",
       "       [ 12.69909286, -10.23728291],\n",
       "       [  9.97820538,   1.4430247 ],\n",
       "       [  3.43040456,  -7.52791532],\n",
       "       [  9.58043618,  -0.86877726],\n",
       "       [ 12.83083512,  -8.2589434 ],\n",
       "       [ 13.16856344,   4.82483497],\n",
       "       [ 11.59694129, -12.83302451],\n",
       "       [ 10.8857351 ,   5.08119137],\n",
       "       [ 11.36930919,  -7.47557862],\n",
       "       [  7.84075206,   7.32992747],\n",
       "       [ 10.37579814,   4.10646698],\n",
       "       [  3.99967711,  -6.18247985],\n",
       "       [  3.83460726,  -4.70352458],\n",
       "       [  8.57470188, -10.43129818],\n",
       "       [  9.5548937 ,   3.19792282],\n",
       "       [  8.70995942,   4.03912296],\n",
       "       [  8.1348658 ,  -9.35978272],\n",
       "       [  5.03198808,  -4.90337064],\n",
       "       [  6.05649183,  -3.34430322],\n",
       "       [  9.13352103,  -8.56028117],\n",
       "       [  6.01646634,  -6.35477445],\n",
       "       [  4.01252931,  -6.3994838 ],\n",
       "       [ 10.5205002 ,  -1.81666882],\n",
       "       [ 10.85566229,   3.77716707],\n",
       "       [  8.36903663,   1.84250774],\n",
       "       [  2.93922507,  -7.36588197],\n",
       "       [  4.87487543,  -5.99344493],\n",
       "       [  4.96527873,  -4.13852764],\n",
       "       [ 10.64653812,   4.32495482],\n",
       "       [  8.88615083,   2.74764887],\n",
       "       [  9.52659171,   4.57928918],\n",
       "       [ 11.19996854,   4.66031011],\n",
       "       [  9.14453982,   2.1477749 ],\n",
       "       [  3.19200615,  -4.1692371 ],\n",
       "       [  9.2688166 ,  -9.59896776],\n",
       "       [ 12.47240308,   2.31690642],\n",
       "       [  8.92372387,  -8.53273833],\n",
       "       [  8.83017164, -10.37257373],\n",
       "       [  8.60637425,   1.9819263 ],\n",
       "       [  8.09552999,   4.94172687],\n",
       "       [  9.04547886,   2.19943804],\n",
       "       [  9.30761899,  -9.11328495],\n",
       "       [  9.39691801,   0.99853706],\n",
       "       [ 10.67164759, -10.3697447 ],\n",
       "       [  9.60825545, -12.03579221],\n",
       "       [  9.85886672,  -8.29499429],\n",
       "       [  9.14719283, -11.79851914],\n",
       "       [  8.81649487,  -9.73099298],\n",
       "       [  8.36375803,   1.75832195],\n",
       "       [  8.80117107, -11.35352259],\n",
       "       [  8.63991402, -11.90045448],\n",
       "       [  8.7131445 ,  -1.43222087]])"
      ]
     },
     "execution_count": 28,
     "metadata": {},
     "output_type": "execute_result"
    }
   ],
   "source": [
    "X"
   ]
  },
  {
   "cell_type": "code",
   "execution_count": 29,
   "metadata": {},
   "outputs": [],
   "source": [
    "from collections import Counter"
   ]
  },
  {
   "cell_type": "code",
   "execution_count": 30,
   "metadata": {},
   "outputs": [
    {
     "data": {
      "text/plain": [
       "Counter({2: 25, 0: 25, 1: 25, 3: 25})"
      ]
     },
     "execution_count": 30,
     "metadata": {},
     "output_type": "execute_result"
    }
   ],
   "source": [
    "Counter(y)"
   ]
  },
  {
   "cell_type": "raw",
   "metadata": {},
   "source": [
    "This code creates a dataset with 100 samples divided into 4 classes and the number of features is 2.\n",
    "Number of samples, features and classes can easily be adjusted using related parameters.\n",
    "We can also adjust how much each cluster (or class) is spread.\n",
    "Let’s visualize this synthetic data set:"
   ]
  },
  {
   "cell_type": "code",
   "execution_count": 31,
   "metadata": {
    "scrolled": true
   },
   "outputs": [
    {
     "data": {
      "image/png": "[encoded data removed]",
      "text/plain": [
       "<Figure size 432x288 with 1 Axes>"
      ]
     },
     "metadata": {
      "needs_background": "light"
     },
     "output_type": "display_data"
    }
   ],
   "source": [
    "plt.scatter(X[:,0], X[:,1], c=y, marker= 'o', s=50)\n",
    "plt.show()"
   ]
  },
  {
   "cell_type": "markdown",
   "metadata": {},
   "source": [
    "# TRAIN TEST SPLIT"
   ]
  },
  {
   "cell_type": "raw",
   "metadata": {},
   "source": [
    "We can specify how much of the original data is used for train or test sets using train_size or\n",
    "test_size parameters, respectively. Default separation \n",
    "is 75% for train set and 25% for test set."
   ]
  },
  {
   "cell_type": "code",
   "execution_count": 32,
   "metadata": {},
   "outputs": [],
   "source": [
    "X_train, X_test, y_train, y_test = train_test_split(X, y, random_state = 0)"
   ]
  },
  {
   "cell_type": "markdown",
   "metadata": {},
   "source": [
    "# CREATE KNN MODEL ( K = 1) ( K=5)"
   ]
  },
  {
   "cell_type": "code",
   "execution_count": null,
   "metadata": {},
   "outputs": [],
   "source": [
    "Then we create a kNN classifier object. To show the difference between the importance of k value,\n",
    "I create two classifiers with k values 1 and 5. Then these models are trained using train set. \n",
    "n_neighbors parameter is used to select k value. Default value is \n",
    "5 so it does not have to be explicitly written."
   ]
  },
  {
   "cell_type": "code",
   "execution_count": 34,
   "metadata": {},
   "outputs": [],
   "source": [
    "knn5 = KNeighborsClassifier() #k=5\n",
    "knn1 = KNeighborsClassifier(n_neighbors=1) #k=1"
   ]
  },
  {
   "cell_type": "markdown",
   "metadata": {},
   "source": [
    "# FIT X_train and y_train in KNN MODEL"
   ]
  },
  {
   "cell_type": "code",
   "execution_count": 35,
   "metadata": {},
   "outputs": [
    {
     "data": {
      "text/plain": [
       "KNeighborsClassifier(algorithm='auto', leaf_size=30, metric='minkowski',\n",
       "                     metric_params=None, n_jobs=None, n_neighbors=1, p=2,\n",
       "                     weights='uniform')"
      ]
     },
     "execution_count": 35,
     "metadata": {},
     "output_type": "execute_result"
    }
   ],
   "source": [
    "knn5.fit(X_train, y_train)\n",
    "knn1.fit(X_train, y_train)"
   ]
  },
  {
   "cell_type": "markdown",
   "metadata": {},
   "source": [
    "# PREDICT THE TARGET VALUES"
   ]
  },
  {
   "cell_type": "raw",
   "metadata": {},
   "source": [
    "Then we predict the target values in the test set and compare with actual values."
   ]
  },
  {
   "cell_type": "code",
   "execution_count": 36,
   "metadata": {},
   "outputs": [],
   "source": [
    "y_pred_5 = knn5.predict(X_test)\n",
    "y_pred_1 = knn1.predict(X_test)"
   ]
  },
  {
   "cell_type": "markdown",
   "metadata": {},
   "source": [
    "# FINDING ACCURACY "
   ]
  },
  {
   "cell_type": "code",
   "execution_count": 37,
   "metadata": {},
   "outputs": [
    {
     "name": "stdout",
     "output_type": "stream",
     "text": [
      "Accuracy of kNN with k=5 0.92\n",
      "Accuracy of kNN with k=1 0.92\n"
     ]
    }
   ],
   "source": [
    "from sklearn.metrics import accuracy_score\n",
    "print(\"Accuracy of kNN with k=5\", accuracy_score(y_test, y_pred_5))\n",
    "print(\"Accuracy of kNN with k=1\", accuracy_score(y_test, y_pred_1))"
   ]
  },
  {
   "cell_type": "markdown",
   "metadata": {},
   "source": [
    "# PASS THE TEST DATA TO THE CREATED MODEL"
   ]
  },
  {
   "cell_type": "raw",
   "metadata": {},
   "source": [
    "In order to see the effect of k values,\n",
    "let’s visualize test set and predicted values with k=5 and k=1"
   ]
  },
  {
   "cell_type": "code",
   "execution_count": 38,
   "metadata": {},
   "outputs": [
    {
     "data": {
      "image/png": "[encoded data removed]",
      "text/plain": [
       "<Figure size 720x432 with 1 Axes>"
      ]
     },
     "metadata": {
      "needs_background": "light"
     },
     "output_type": "display_data"
    }
   ],
   "source": [
    "plt.figure(figsize = (10,6))\n",
    "plt.scatter(X_test[:,0], X_test[:,1], c=y_test, marker= 'o', s=50)\n",
    "plt.title(\"Original data\", fontsize=20)\n",
    "plt.show()"
   ]
  },
  {
   "cell_type": "code",
   "execution_count": 39,
   "metadata": {},
   "outputs": [
    {
     "data": {
      "image/png": "[encoded data removed]",
      "text/plain": [
       "<Figure size 720x432 with 1 Axes>"
      ]
     },
     "metadata": {
      "needs_background": "light"
     },
     "output_type": "display_data"
    }
   ],
   "source": [
    "plt.figure(figsize = (10,6))\n",
    "plt.scatter(X_test[:,0], X_test[:,1], c=y_pred_5, marker= 'o', s=50)\n",
    "plt.title(\"Predicted values with k=5\", fontsize=20)\n",
    "plt.show()"
   ]
  },
  {
   "cell_type": "code",
   "execution_count": 40,
   "metadata": {},
   "outputs": [
    {
     "data": {
      "image/png": "[encoded data removed]",
      "text/plain": [
       "<Figure size 720x432 with 1 Axes>"
      ]
     },
     "metadata": {
      "needs_background": "light"
     },
     "output_type": "display_data"
    }
   ],
   "source": [
    "plt.figure(figsize = (10,6))\n",
    "plt.scatter(X_test[:,0], X_test[:,1], c=y_pred_5, marker= 'o', s=50)\n",
    "plt.title(\"Predicted values with k=5\", fontsize=20)\n",
    "plt.show()"
   ]
  },
  {
   "cell_type": "markdown",
   "metadata": {},
   "source": [
    "# CONCLUSION"
   ]
  },
  {
   "cell_type": "raw",
   "metadata": {},
   "source": [
    "The result seems to be very similar because we used a substantially \n",
    "small dataset. However, even on small datasets, \n",
    "different k values predict some points differently"
   ]
  },
  {
   "cell_type": "markdown",
   "metadata": {},
   "source": [
    "# How to find the best k value"
   ]
  },
  {
   "cell_type": "raw",
   "metadata": {},
   "source": [
    "k=1: The model is too specific and not generalized well. It also tends to be sensitive to noise. \n",
    "    The model accomplishes a high accuracy on train set but will be a poor predictor on new, previously \n",
    "    unseen data points.\n",
    "    Therefore, we are likely to end up with an overfit model"
   ]
  },
  {
   "cell_type": "markdown",
   "metadata": {},
   "source": [
    "k=100: The model is too generalized and not a good predictor on both train and test sets. \n",
    "    This situation is known as underfitting."
   ]
  },
  {
   "cell_type": "raw",
   "metadata": {},
   "source": [
    "Scikit-learn provides GridSearchCV function that allows us to easily check multiple values for k"
   ]
  },
  {
   "cell_type": "code",
   "execution_count": 41,
   "metadata": {},
   "outputs": [],
   "source": [
    "from sklearn.datasets import load_breast_cancer\n",
    "from sklearn.model_selection import GridSearchCV"
   ]
  },
  {
   "cell_type": "code",
   "execution_count": 48,
   "metadata": {},
   "outputs": [],
   "source": [
    "cancer = load_breast_cancer()\n",
    "(X_cancer, y_cancer) = load_breast_cancer(return_X_y = True)"
   ]
  },
  {
   "cell_type": "raw",
   "metadata": {},
   "source": [
    "After we import the required libraries and load the dataset, we can create a GridSearchCV object."
   ]
  },
  {
   "cell_type": "code",
   "execution_count": 49,
   "metadata": {},
   "outputs": [],
   "source": [
    "knn_grid = GridSearchCV(estimator = KNeighborsClassifier(), \n",
    "                        param_grid={'n_neighbors': np.arange(1,20)}, cv=5)"
   ]
  },
  {
   "cell_type": "raw",
   "metadata": {},
   "source": [
    "estimator: estimator object you created: KNeighborsClassifier()\n",
    "params_grid: the dictionary object that holds the hyperparameters you want to try\n",
    "#param_grid={'n_neighbors': np.arange(1,20)}\n",
    "\n",
    "cv: number of cross-validation you have to try for each selected set of hyperparameters\n"
   ]
  },
  {
   "cell_type": "code",
   "execution_count": 51,
   "metadata": {},
   "outputs": [
    {
     "data": {
      "text/plain": [
       "GridSearchCV(cv=5, error_score=nan,\n",
       "             estimator=KNeighborsClassifier(algorithm='auto', leaf_size=30,\n",
       "                                            metric='minkowski',\n",
       "                                            metric_params=None, n_jobs=None,\n",
       "                                            n_neighbors=5, p=2,\n",
       "                                            weights='uniform'),\n",
       "             iid='deprecated', n_jobs=None,\n",
       "             param_grid={'n_neighbors': array([ 1,  2,  3,  4,  5,  6,  7,  8,  9, 10, 11, 12, 13, 14, 15, 16, 17,\n",
       "       18, 19])},\n",
       "             pre_dispatch='2*n_jobs', refit=True, return_train_score=False,\n",
       "             scoring=None, verbose=0)"
      ]
     },
     "execution_count": 51,
     "metadata": {},
     "output_type": "execute_result"
    }
   ],
   "source": [
    "knn_grid.fit(X_cancer, y_cancer)"
   ]
  },
  {
   "cell_type": "raw",
   "metadata": {},
   "source": [
    "We do not need to split the the datasets because cv parameter splits the dataset. The default value for cv parameter is 5 but I explicitly wrote it to emphasize why we don’t need to use train_test_split.\n",
    "cv=5 basically splits the dataset into 5 subsets. GridSearchCV does 5 iterations and use 4 subsets for training and 1 subset for testing at each time. In this way, we are able to use all data points for both training and testing.\n",
    "We can check which parameters give us best results using best_params_ method:"
   ]
  },
  {
   "cell_type": "code",
   "execution_count": 58,
   "metadata": {},
   "outputs": [
    {
     "data": {
      "text/plain": [
       "{'n_neighbors': 13}"
      ]
     },
     "execution_count": 58,
     "metadata": {},
     "output_type": "execute_result"
    }
   ],
   "source": [
    "knn_grid.best_params_\n"
   ]
  },
  {
   "cell_type": "markdown",
   "metadata": {},
   "source": [
    "# ADVANTAGE OF KNN"
   ]
  },
  {
   "cell_type": "raw",
   "metadata": {},
   "source": [
    "Simple and easy to interpret\n",
    "Does not make any assumption so it can be implemented in non-linear tasks.\n",
    "Works well on classification with multiple classes\n",
    "Works on both classification and regression tasks"
   ]
  },
  {
   "cell_type": "markdown",
   "metadata": {},
   "source": [
    "# DISADVANTAGE OF KNN"
   ]
  },
  {
   "cell_type": "raw",
   "metadata": {},
   "source": [
    "Becomes very slow as the number of data points increases because the model needs to store all data points.\n",
    "Not memory efficient\n",
    "Sensitive to outliers. Outliers also have a vote!"
   ]
  },
  {
   "cell_type": "markdown",
   "metadata": {},
   "source": [
    "# OTHER PARAMETERS"
   ]
  },
  {
   "cell_type": "raw",
   "metadata": {},
   "source": [
    "\n",
    "estimator: estimator object you created: KNeighborsClassifier()\n",
    "params_grid: the dictionary object that holds the hyperparameters you want to try\n",
    "#param_grid={'n_neighbors': np.arange(1,20)}\n",
    "scoring: evaluation metric that you want to use, you can simply pass a valid string/ object of evaluation metric\n",
    "cv: number of cross-validation you have to try for each selected set of hyperparameters\n",
    "verbose: you can set it to 1 to get the detailed print out while you fit the data to GridSearchCV\n",
    "n_jobs: number of processes you wish to run in parallel for this task if it -1 it will use all available processors."
   ]
  }
 ],
 "metadata": {
  "kernelspec": {
   "display_name": "Python 3",
   "language": "python",
   "name": "python3"
  },
  "language_info": {
   "codemirror_mode": {
    "name": "ipython",
    "version": 3
   },
   "file_extension": ".py",
   "mimetype": "text/x-python",
   "name": "python",
   "nbconvert_exporter": "python",
   "pygments_lexer": "ipython3",
   "version": "3.7.6"
  }
 },
 "nbformat": 4,
 "nbformat_minor": 4
}
